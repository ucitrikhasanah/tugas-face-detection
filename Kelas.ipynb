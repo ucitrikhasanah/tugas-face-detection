{
 "cells": [
  {
   "cell_type": "code",
   "execution_count": 9,
   "id": "a1194694-49b7-4159-a98b-d68fc5d3ebb7",
   "metadata": {},
   "outputs": [],
   "source": [
    "#Mohammad Yanuar 562020120015\n",
    "import PIL.Image\n",
    "import PIL.ImageDraw\n",
    "import face_recognition"
   ]
  },
  {
   "cell_type": "code",
   "execution_count": 10,
   "id": "a8620106-9812-4a82-b738-8d810c26ea98",
   "metadata": {},
   "outputs": [],
   "source": [
    "given_image = face_recognition.load_image_file('babi.jpg')"
   ]
  },
  {
   "cell_type": "code",
   "execution_count": 11,
   "id": "85169d3e-4ba7-486d-b12f-2bae9b6c9621",
   "metadata": {},
   "outputs": [
    {
     "name": "stdout",
     "output_type": "stream",
     "text": [
      "We found 0 face(s) in this image.\n"
     ]
    }
   ],
   "source": [
    "face_locations = face_recognition.face_locations(given_image)\n",
    "number_of_faces = len(face_locations)\n",
    "print(\"We found {} face(s) in this image.\".format(number_of_faces))"
   ]
  },
  {
   "cell_type": "code",
   "execution_count": 12,
   "id": "bb18d620-1e44-4263-9995-78970cc3ff3c",
   "metadata": {},
   "outputs": [],
   "source": [
    "pil_image = PIL.Image.fromarray(given_image)"
   ]
  },
  {
   "cell_type": "code",
   "execution_count": 13,
   "id": "3472bb25-a69f-460c-910b-a1cb32049be4",
   "metadata": {},
   "outputs": [],
   "source": [
    "for face_location in face_locations:\n",
    "    top, left, bottom, right = face_location\n",
    "    print(\"A face is detected at pixel location Top: {}, Left: {}, Bottom: {}, Right: {}\".format(top, left, bottom, right))\n",
    "    draw = PIL.ImageDraw.Draw(pil_image)\n",
    "    draw.rectangle([left, top, right, bottom], outline=\"green\", width=10)"
   ]
  },
  {
   "cell_type": "code",
   "execution_count": 14,
   "id": "0afb39b9-17e0-46a4-b8b5-a80c87ee7eab",
   "metadata": {},
   "outputs": [],
   "source": [
    "pil_image.show()"
   ]
  },
  {
   "cell_type": "code",
   "execution_count": null,
   "id": "e2363afb-6d19-4d28-a2ef-405a45a6c077",
   "metadata": {},
   "outputs": [],
   "source": []
  }
 ],
 "metadata": {
  "kernelspec": {
   "display_name": "Python 3 (ipykernel)",
   "language": "python",
   "name": "python3"
  },
  "language_info": {
   "codemirror_mode": {
    "name": "ipython",
    "version": 3
   },
   "file_extension": ".py",
   "mimetype": "text/x-python",
   "name": "python",
   "nbconvert_exporter": "python",
   "pygments_lexer": "ipython3",
   "version": "3.10.4"
  }
 },
 "nbformat": 4,
 "nbformat_minor": 5
}
